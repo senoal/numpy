{
 "cells": [
  {
   "cell_type": "code",
   "execution_count": 20,
   "metadata": {},
   "outputs": [],
   "source": [
    "import pandas as pd, requests"
   ]
  },
  {
   "cell_type": "code",
   "execution_count": 21,
   "metadata": {},
   "outputs": [
    {
     "data": {
      "text/plain": [
       "200"
      ]
     },
     "execution_count": 21,
     "metadata": {},
     "output_type": "execute_result"
    }
   ],
   "source": [
    "url_hw = 'https://datausa.io/api/data?drilldowns=Nation&measures=Population'\n",
    "url_hw = requests.get(url_hw)\n",
    "url_hw.status_code"
   ]
  },
  {
   "cell_type": "code",
   "execution_count": 25,
   "metadata": {},
   "outputs": [
    {
     "data": {
      "text/plain": [
       "{'data': [{'ID Nation': '01000US',\n",
       "   'Nation': 'United States',\n",
       "   'ID Year': 2018,\n",
       "   'Year': '2018',\n",
       "   'Population': 327167439,\n",
       "   'Slug Nation': 'united-states'},\n",
       "  {'ID Nation': '01000US',\n",
       "   'Nation': 'United States',\n",
       "   'ID Year': 2017,\n",
       "   'Year': '2017',\n",
       "   'Population': 325719178,\n",
       "   'Slug Nation': 'united-states'},\n",
       "  {'ID Nation': '01000US',\n",
       "   'Nation': 'United States',\n",
       "   'ID Year': 2016,\n",
       "   'Year': '2016',\n",
       "   'Population': 323127515,\n",
       "   'Slug Nation': 'united-states'},\n",
       "  {'ID Nation': '01000US',\n",
       "   'Nation': 'United States',\n",
       "   'ID Year': 2015,\n",
       "   'Year': '2015',\n",
       "   'Population': 321418821,\n",
       "   'Slug Nation': 'united-states'},\n",
       "  {'ID Nation': '01000US',\n",
       "   'Nation': 'United States',\n",
       "   'ID Year': 2014,\n",
       "   'Year': '2014',\n",
       "   'Population': 318857056,\n",
       "   'Slug Nation': 'united-states'},\n",
       "  {'ID Nation': '01000US',\n",
       "   'Nation': 'United States',\n",
       "   'ID Year': 2013,\n",
       "   'Year': '2013',\n",
       "   'Population': 316128839,\n",
       "   'Slug Nation': 'united-states'}],\n",
       " 'source': [{'measures': ['Population'],\n",
       "   'annotations': {'source_name': 'Census Bureau',\n",
       "    'source_description': 'The American Community Survey (ACS) is conducted by the US Census and sent to a portion of the population every year.',\n",
       "    'dataset_name': 'ACS 1-year Estimate',\n",
       "    'dataset_link': 'http://www.census.gov/programs-surveys/acs/',\n",
       "    'table_id': 'B01003',\n",
       "    'topic': 'Diversity',\n",
       "    'subtopic': 'Demographics'},\n",
       "   'name': 'acs_yg_total_population_1',\n",
       "   'substitutions': []}]}"
      ]
     },
     "execution_count": 25,
     "metadata": {},
     "output_type": "execute_result"
    }
   ],
   "source": [
    "dtapi = url_hw.json()\n",
    "dtapi"
   ]
  },
  {
   "cell_type": "code",
   "execution_count": 23,
   "metadata": {},
   "outputs": [
    {
     "data": {
      "text/html": [
       "<div>\n",
       "<style scoped>\n",
       "    .dataframe tbody tr th:only-of-type {\n",
       "        vertical-align: middle;\n",
       "    }\n",
       "\n",
       "    .dataframe tbody tr th {\n",
       "        vertical-align: top;\n",
       "    }\n",
       "\n",
       "    .dataframe thead th {\n",
       "        text-align: right;\n",
       "    }\n",
       "</style>\n",
       "<table border=\"1\" class=\"dataframe\">\n",
       "  <thead>\n",
       "    <tr style=\"text-align: right;\">\n",
       "      <th></th>\n",
       "      <th>ID Nation</th>\n",
       "      <th>Nation</th>\n",
       "      <th>ID Year</th>\n",
       "      <th>Year</th>\n",
       "      <th>Population</th>\n",
       "      <th>Slug Nation</th>\n",
       "    </tr>\n",
       "  </thead>\n",
       "  <tbody>\n",
       "    <tr>\n",
       "      <th>0</th>\n",
       "      <td>01000US</td>\n",
       "      <td>United States</td>\n",
       "      <td>2018</td>\n",
       "      <td>2018</td>\n",
       "      <td>327167439</td>\n",
       "      <td>united-states</td>\n",
       "    </tr>\n",
       "    <tr>\n",
       "      <th>1</th>\n",
       "      <td>01000US</td>\n",
       "      <td>United States</td>\n",
       "      <td>2017</td>\n",
       "      <td>2017</td>\n",
       "      <td>325719178</td>\n",
       "      <td>united-states</td>\n",
       "    </tr>\n",
       "    <tr>\n",
       "      <th>2</th>\n",
       "      <td>01000US</td>\n",
       "      <td>United States</td>\n",
       "      <td>2016</td>\n",
       "      <td>2016</td>\n",
       "      <td>323127515</td>\n",
       "      <td>united-states</td>\n",
       "    </tr>\n",
       "    <tr>\n",
       "      <th>3</th>\n",
       "      <td>01000US</td>\n",
       "      <td>United States</td>\n",
       "      <td>2015</td>\n",
       "      <td>2015</td>\n",
       "      <td>321418821</td>\n",
       "      <td>united-states</td>\n",
       "    </tr>\n",
       "    <tr>\n",
       "      <th>4</th>\n",
       "      <td>01000US</td>\n",
       "      <td>United States</td>\n",
       "      <td>2014</td>\n",
       "      <td>2014</td>\n",
       "      <td>318857056</td>\n",
       "      <td>united-states</td>\n",
       "    </tr>\n",
       "    <tr>\n",
       "      <th>5</th>\n",
       "      <td>01000US</td>\n",
       "      <td>United States</td>\n",
       "      <td>2013</td>\n",
       "      <td>2013</td>\n",
       "      <td>316128839</td>\n",
       "      <td>united-states</td>\n",
       "    </tr>\n",
       "  </tbody>\n",
       "</table>\n",
       "</div>"
      ],
      "text/plain": [
       "  ID Nation         Nation  ID Year  Year  Population    Slug Nation\n",
       "0   01000US  United States     2018  2018   327167439  united-states\n",
       "1   01000US  United States     2017  2017   325719178  united-states\n",
       "2   01000US  United States     2016  2016   323127515  united-states\n",
       "3   01000US  United States     2015  2015   321418821  united-states\n",
       "4   01000US  United States     2014  2014   318857056  united-states\n",
       "5   01000US  United States     2013  2013   316128839  united-states"
      ]
     },
     "execution_count": 23,
     "metadata": {},
     "output_type": "execute_result"
    }
   ],
   "source": [
    "a = []\n",
    "\n",
    "for i in dtapi['data']:\n",
    "    idn = i['ID Nation']\n",
    "    ntn = i['Nation']\n",
    "    idy = i['ID Year']\n",
    "    yr = i['Year']\n",
    "    popu = i['Population']\n",
    "    slg = i['Slug Nation']\n",
    "    baris = [idn, ntn, idy, yr, popu, slg]\n",
    "    a.append(baris)\n",
    "\n",
    "df1 = pd.DataFrame(a, columns=['ID Nation',\n",
    "                                  'Nation',\n",
    "                                 'ID Year',\n",
    "                                 'Year',\n",
    "                                 'Population',\n",
    "                                 'Slug Nation'])\n",
    "df1"
   ]
  },
  {
   "cell_type": "code",
   "execution_count": null,
   "metadata": {},
   "outputs": [],
   "source": []
  }
 ],
 "metadata": {
  "kernelspec": {
   "display_name": "Python 3",
   "language": "python",
   "name": "python3"
  },
  "language_info": {
   "codemirror_mode": {
    "name": "ipython",
    "version": 3
   },
   "file_extension": ".py",
   "mimetype": "text/x-python",
   "name": "python",
   "nbconvert_exporter": "python",
   "pygments_lexer": "ipython3",
   "version": "3.7.6"
  }
 },
 "nbformat": 4,
 "nbformat_minor": 4
}
